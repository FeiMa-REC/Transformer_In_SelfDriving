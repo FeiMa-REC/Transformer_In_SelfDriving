{
 "cells": [
  {
   "cell_type": "markdown",
   "metadata": {},
   "source": [
    "# Swim Transformer : Hierarchical Vision Transformer using Shifted Windows\n",
    "\n",
    "在2021年微软亚洲研究院基于Transformer架构提出了一种通用的视觉backnone，使用分层窗口注意力机制移位窗口注意力计算等方法解决了原有的Transformer因为模型庞大难以应用在目标检测和语义分割这种像素级任务上的缺陷。"
   ]
  },
  {
   "cell_type": "markdown",
   "metadata": {},
   "source": [
    "目前Transformer应用到图像领域主要有两大挑战：\n",
    "\n",
    "- 视觉实体变化大，在不同场景下视觉Transformer性能未必很好\n",
    "- 图像分辨率高，像素点多，Transformer基于全局自注意力的计算导致计算量较大\n",
    "\n",
    "针对上述两个问题，我们提出了一种**包含滑窗操作，具有层级设计**的Swin Transformer。\n",
    "\n",
    "其中滑窗操作包括**不重叠的local window，和重叠的cross-window**。将注意力计算限制在一个窗口中，**一方面能引入CNN卷积操作的局部性，另一方面能节省计算量。**"
   ]
  },
  {
   "cell_type": "markdown",
   "metadata": {},
   "source": [
    "## 模型架构\n"
   ]
  },
  {
   "cell_type": "markdown",
   "metadata": {},
   "source": [
    "<div align = \"center\">\n",
    "    <img src = ./images/swim-tfm-0.png width = 90%>\n",
    "</div>"
   ]
  },
  {
   "cell_type": "markdown",
   "metadata": {},
   "source": [
    "整个模型采取层次化的设计，一共包含4个Stage，每个stage都会缩小输入特征图的分辨率，翻倍通道数，像CNN一样逐层扩大感受野。\n",
    "\n",
    "与Vit相比，Swim-tfm有以下几点区别：\n",
    "\n",
    "- 在模型开头取消Position embedding和Class token的操作，直接进行patch分割\n",
    "- 从Stage2开始，最开始都进行Patch Merging，用于降低图片分辨率\n",
    "- MSA修改为Window MSA以及Shifted window MSA，且先经过W-MSA再经过SW-MSA\n",
    "\n",
    "参考[微软官方代码](https://github.com/microsoft/Swin-Transformer)，下面是Swim-tfm实现的总体流程。\n",
    "\n",
    "```python\n",
    "class SwinTransformer(nn.Module):\n",
    "    def __init__(...):\n",
    "        super().__init__()\n",
    "        ...\n",
    "        # absolute position embedding\n",
    "        if self.ape:\n",
    "            self.absolute_pos_embed = nn.Parameter(torch.zeros(1, num_patches, embed_dim))\n",
    "            \n",
    "        self.pos_drop = nn.Dropout(p=drop_rate)\n",
    "\n",
    "        # build layers\n",
    "        self.layers = nn.ModuleList()\n",
    "        for i_layer in range(self.num_layers):\n",
    "            layer = BasicLayer(...)\n",
    "            self.layers.append(layer)\n",
    "\n",
    "        self.norm = norm_layer(self.num_features)\n",
    "        self.avgpool = nn.AdaptiveAvgPool1d(1)\n",
    "        self.head = nn.Linear(self.num_features, num_classes) if num_classes > 0 else nn.Identity()\n",
    "\n",
    "    def forward_features(self, x):\n",
    "        x = self.patch_embed(x)\n",
    "        if self.ape:\n",
    "            x = x + self.absolute_pos_embed\n",
    "        x = self.pos_drop(x)\n",
    "\n",
    "        for layer in self.layers:\n",
    "            x = layer(x)\n",
    "\n",
    "        x = self.norm(x)  # B L C\n",
    "        x = self.avgpool(x.transpose(1, 2))  # B C 1\n",
    "        x = torch.flatten(x, 1)\n",
    "        return x\n",
    "\n",
    "    def forward(self, x):\n",
    "        x = self.forward_features(x)\n",
    "        x = self.head(x)\n",
    "        return x\n",
    "```\n",
    "\n",
    "接下来再来看各个组件的实现细节"
   ]
  },
  {
   "cell_type": "markdown",
   "metadata": {},
   "source": [
    "## Patch Embedding\n",
    "\n",
    "在整个Swim-tfm的流程中，第一步就是划分图像为数个Patch，之后再嵌入向量。\n",
    "\n",
    "具体做法为使用 **2d卷积** 对图像进行patch划分，然后进行Flatten操作进行向量嵌入。"
   ]
  },
  {
   "cell_type": "code",
   "execution_count": 11,
   "metadata": {},
   "outputs": [
    {
     "name": "stdout",
     "output_type": "stream",
     "text": [
      "dim after projection : torch.Size([1, 96, 56, 56]) \n",
      "torch.Size([1, 3136, 96])\n"
     ]
    }
   ],
   "source": [
    "import torch\n",
    "import torch.nn as nn\n",
    "\n",
    "def to_tuple(t):\n",
    "    return t if isinstance(t, tuple) else (t, t)\n",
    "\n",
    "\n",
    "class Patch_Embedding(nn.Module):\n",
    "    def __init__(self, image_size, patch_size, in_channels, embedding_dim, norm_layer=None):\n",
    "        super(Patch_Embedding, self).__init__()\n",
    "        image_size = to_tuple(image_size)\n",
    "        patch_size = to_tuple(patch_size)\n",
    "        patch_number = (image_size[0] // patch_size[0]) * (image_size[1] // patch_size[1])\n",
    "        self.image_size = image_size\n",
    "        self.patch_size = patch_size\n",
    "        self.patch_number = patch_number\n",
    "\n",
    "        self.in_channels = in_channels\n",
    "        self.embedding_dim = embedding_dim\n",
    "\n",
    "        self.projection = nn.Conv2d(in_channels, embedding_dim, kernel_size=patch_size, stride=patch_size)\n",
    "        if norm_layer is not None:\n",
    "            self.norm_layer = norm_layer(embedding_dim)\n",
    "        else:\n",
    "            self.norm_layer = None\n",
    "\n",
    "    def forward(self, x):\n",
    "        x = self.projection(x)\n",
    "        print(\"dim after projection : {} \".format(x.shape))\n",
    "        x = torch.flatten(x, 2) # n c h w -> n c h*w\n",
    "        x = torch.transpose(x, 1, 2) # n c h*c -> n h*w c\n",
    "        if self.norm_layer is not None:\n",
    "            x = self.norm_layer(x)\n",
    "        return x\n",
    "\n",
    "\n",
    "if __name__ == \"__main__\":\n",
    "    PatchEmbedding = Patch_Embedding(image_size=224,\n",
    "                                     patch_size=4,\n",
    "                                     in_channels=3,\n",
    "                                     embedding_dim=96)\n",
    "    \n",
    "    img = torch.randn(1, 3, 224, 224)\n",
    "\n",
    "    result = PatchEmbedding(img)\n",
    "    print(result.shape)"
   ]
  },
  {
   "cell_type": "markdown",
   "metadata": {},
   "source": [
    "## Patch Merging\n",
    "\n",
    "该模块的作用是在每个Stage开始前做降采样，用于缩小分辨率，调整通道数 进而形成层次化的设计，同时也能节省一定运算量。\n",
    "\n",
    "> 在CNN中，则是在每个Stage开始前用stride=2的卷积/池化层来降低分辨率。\n",
    "> 每次降采样是两倍，因此在行方向和列方向上，间隔2选取元素。\n",
    "\n",
    "然后拼接在一起作为一整个张量，最后展开。**此时通道维度会变成原先的4倍（因为H,W各缩小2倍），此时再通过一个全连接层再调整通道维度为原来的两倍**"
   ]
  },
  {
   "cell_type": "code",
   "execution_count": 14,
   "metadata": {},
   "outputs": [
    {
     "name": "stdout",
     "output_type": "stream",
     "text": [
      "torch.Size([1, 28, 28, 192])\n"
     ]
    }
   ],
   "source": [
    "class Patch_Merging(nn.Module):\n",
    "    def __init__(self, input_resolution, dim, norm_layer=None):\n",
    "        super(Patch_Merging, self).__init__()\n",
    "        self.input_resolution = input_resolution\n",
    "        self.dim = dim\n",
    "        self.reduction = nn.Linear(4 * dim, 2 * dim, bias=False)\n",
    "        if norm_layer is not None:\n",
    "            self.norm_layer = norm_layer\n",
    "        else:\n",
    "            self.norm_layer = nn.LayerNorm(4 * dim)\n",
    "\n",
    "    def forward(self, x):\n",
    "        '''\n",
    "        x : b h*w c\n",
    "        '''\n",
    "        H, W  = self.input_resolution\n",
    "        B, L, C = x.shape\n",
    "        assert H*W == L, \"input features has wrong size.\"\n",
    "        assert H % 2 == 0 and W % 2 == 0, f\"x size ({H}*{W}) are not even.\"\n",
    "\n",
    "        x = x.view(B, H, W, C)\n",
    "\n",
    "        x0 = x[:, 0::2, 0::2, :] # b, h/2, w/2, c\n",
    "        x1 = x[:, 1::2, 0::2, :]\n",
    "        x2 = x[:, 0::2, 1::2, :]\n",
    "        x3 = x[:, 1::2, 1::2, :]\n",
    "\n",
    "        x = torch.cat([x0, x1, x2, x3], -1) # b, h/2, w/2, 4*c\n",
    "        x = self.norm_layer(x)\n",
    "        x = self.reduction(x)\n",
    "        return x\n",
    "\n",
    "\n",
    "if __name__ == \"__main__\":\n",
    "    # middle_feature_map = torch.randn(1, 3136, 96)\n",
    "\n",
    "    PatchMerging = Patch_Merging(input_resolution=[56, 56],\n",
    "                                 dim=96)\n",
    "\n",
    "    result = PatchMerging(result)\n",
    "    print(result.shape)"
   ]
  },
  {
   "cell_type": "markdown",
   "metadata": {},
   "source": [
    "上述流程示意图如下：\n",
    "\n",
    "<div align = \"center\">\n",
    "    <img src = ./images/swim-tfm-1.png width = 90%>\n",
    "</div>"
   ]
  },
  {
   "cell_type": "code",
   "execution_count": null,
   "metadata": {},
   "outputs": [],
   "source": []
  }
 ],
 "metadata": {
  "kernelspec": {
   "display_name": "cvpy39",
   "language": "python",
   "name": "python3"
  },
  "language_info": {
   "codemirror_mode": {
    "name": "ipython",
    "version": 3
   },
   "file_extension": ".py",
   "mimetype": "text/x-python",
   "name": "python",
   "nbconvert_exporter": "python",
   "pygments_lexer": "ipython3",
   "version": "3.9.18"
  }
 },
 "nbformat": 4,
 "nbformat_minor": 2
}
