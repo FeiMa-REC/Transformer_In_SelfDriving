{
 "cells": [
  {
   "cell_type": "markdown",
   "metadata": {},
   "source": [
    "# Swim Transformer : Hierarchical Vision Transformer using Shifted Windows\n",
    "\n",
    "在2021年微软亚洲研究院基于Transformer架构提出了一种通用的视觉backnone，使用分层窗口注意力机制移位窗口注意力计算等方法解决了原有的Transformer因为模型庞大难以应用在目标检测和语义分割这种像素级任务上的缺陷。"
   ]
  }
 ],
 "metadata": {
  "language_info": {
   "name": "python"
  }
 },
 "nbformat": 4,
 "nbformat_minor": 2
}
